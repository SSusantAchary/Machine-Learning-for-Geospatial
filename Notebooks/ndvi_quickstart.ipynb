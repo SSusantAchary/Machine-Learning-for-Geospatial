{
  "cells": [
    {
      "cell_type": "markdown",
      "metadata": {},
      "source": [
        "# NDVI Quickstart\n",
        "\n",
        "Demonstrates how to compute a Normalized Difference Vegetation Index (NDVI) image from Sentinel-2 Level-2A bands using `rasterio` and `numpy`."
      ]
    },
    {
      "cell_type": "code",
      "execution_count": null,
      "metadata": {},
      "outputs": [],
      "source": [
        "from pathlib import Path\n",
        "\n",
        "import numpy as np\n",
        "import rasterio\n",
        "\n",
        "red_path = Path(\"../Datasets/sentinel2_red_band.tif\")\n",
        "nir_path = Path(\"../Datasets/sentinel2_nir_band.tif\")\n",
        "\n",
        "with rasterio.open(red_path) as red_src, rasterio.open(nir_path) as nir_src:\n",
        "    red = red_src.read(1).astype(\"float32\")\n",
        "    nir = nir_src.read(1).astype(\"float32\")\n",
        "    profile = red_src.profile\n",
        "\n",
        "ndvi = np.where(\n",
        "    (nir + red) == 0,\n",
        "    0,\n",
        "    (nir - red) / (nir + red)\n",
        ")\n",
        "\n",
        "profile.update(dtype=\"float32\", count=1)\n",
        "\n",
        "output = Path(\"ndvi.tif\")\n",
        "with rasterio.open(output, \"w\", **profile) as dst:\n",
        "    dst.write(ndvi, 1)\n",
        "\n",
        "print(f\"Saved NDVI raster to {output.resolve()}\")"
      ]
    },
    {
      "cell_type": "markdown",
      "metadata": {},
      "source": [
        "## Notes\n",
        "- Source COGs are expected in the `Datasets/` folder. You can adapt the downloader script there to fetch the NIR band as well.\n",
        "- Apply optional scaling factors (e.g., 1/10000) depending on the sensor.\n",
        "- For large rasters, chunk reads (with `window=`) to reduce memory usage."
      ]
    }
  ],
  "metadata": {
    "kernelspec": {
      "display_name": "Python 3",
      "language": "python",
      "name": "python3"
    },
    "language_info": {
      "name": "python",
      "version": ""
    }
  },
  "nbformat": 4,
  "nbformat_minor": 5
}
